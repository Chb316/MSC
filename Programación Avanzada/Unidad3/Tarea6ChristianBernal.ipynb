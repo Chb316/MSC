{
  "nbformat": 4,
  "nbformat_minor": 0,
  "metadata": {
    "colab": {
      "provenance": []
    },
    "kernelspec": {
      "name": "python3",
      "display_name": "Python 3"
    },
    "language_info": {
      "name": "python"
    }
  },
  "cells": [
    {
      "cell_type": "code",
      "execution_count": 2,
      "metadata": {
        "colab": {
          "base_uri": "https://localhost:8080/"
        },
        "id": "54ae4Pel_iAY",
        "outputId": "3785d66d-62be-4edb-f516-15aa397445dd"
      },
      "outputs": [
        {
          "output_type": "stream",
          "name": "stdout",
          "text": [
            "Collecting pybind11\n",
            "  Downloading pybind11-2.13.6-py3-none-any.whl.metadata (9.5 kB)\n",
            "Downloading pybind11-2.13.6-py3-none-any.whl (243 kB)\n",
            "\u001b[?25l   \u001b[90m━━━━━━━━━━━━━━━━━━━━━━━━━━━━━━━━━━━━━━━━\u001b[0m \u001b[32m0.0/243.3 kB\u001b[0m \u001b[31m?\u001b[0m eta \u001b[36m-:--:--\u001b[0m\r\u001b[2K   \u001b[91m━━━━━━━━━━━━━━━━━━━━━━━━━━━━━━━━━━━━━━\u001b[0m\u001b[91m╸\u001b[0m\u001b[90m━\u001b[0m \u001b[32m235.5/243.3 kB\u001b[0m \u001b[31m7.5 MB/s\u001b[0m eta \u001b[36m0:00:01\u001b[0m\r\u001b[2K   \u001b[90m━━━━━━━━━━━━━━━━━━━━━━━━━━━━━━━━━━━━━━━━\u001b[0m \u001b[32m243.3/243.3 kB\u001b[0m \u001b[31m5.6 MB/s\u001b[0m eta \u001b[36m0:00:00\u001b[0m\n",
            "\u001b[?25hInstalling collected packages: pybind11\n",
            "Successfully installed pybind11-2.13.6\n",
            "Reading package lists... Done\n",
            "Building dependency tree... Done\n",
            "Reading state information... Done\n",
            "cmake is already the newest version (3.22.1-1ubuntu1.22.04.2).\n",
            "0 upgraded, 0 newly installed, 0 to remove and 49 not upgraded.\n"
          ]
        }
      ],
      "source": [
        "# Instalar pybind11 y cmake\n",
        "!pip install pybind11\n",
        "!apt-get install cmake\n"
      ]
    },
    {
      "cell_type": "code",
      "source": [
        "import pybind11\n",
        "print(pybind11.get_cmake_dir())\n"
      ],
      "metadata": {
        "colab": {
          "base_uri": "https://localhost:8080/"
        },
        "id": "5VsnRUUq_ol-",
        "outputId": "b824f50f-c072-441d-9bae-503de67881e5"
      },
      "execution_count": 3,
      "outputs": [
        {
          "output_type": "stream",
          "name": "stdout",
          "text": [
            "/usr/local/lib/python3.10/dist-packages/pybind11/share/cmake/pybind11\n"
          ]
        }
      ]
    },
    {
      "cell_type": "code",
      "source": [
        "# Crear el archivo nombre.cpp\n",
        "code = \"\"\"\n",
        "#include <pybind11/pybind11.h>\n",
        "#include <iostream>\n",
        "#include <pybind11/stl.h> // Para la integraciÃ³n de STL\n",
        "\n",
        "namespace py = pybind11;\n",
        "\n",
        "std::string imprimir() {\n",
        "    return \"Hola, mi nombre es Christian\";\n",
        "}\n",
        "\n",
        "PYBIND11_MODULE(nombre, m) {\n",
        "    m.def(\"imprimir\", &imprimir, \"Función que imprime el nombre en pantalla\");\n",
        "}\n",
        "\"\"\"\n",
        "\n",
        "# Guardar el archivo nombre.cpp\n",
        "with open(\"nombre.cpp\", \"w\") as f:\n",
        "    f.write(code)"
      ],
      "metadata": {
        "id": "fWSrVQLsGf3z"
      },
      "execution_count": 4,
      "outputs": []
    },
    {
      "cell_type": "code",
      "source": [
        "# Crear el archivo CMakeLists.txt\n",
        "cmake_code = \"\"\"\n",
        "cmake_minimum_required(VERSION 3.12)\n",
        "project(nombre)\n",
        "\n",
        "# Buscar donde esta instalado PyBind11\n",
        "set(pybind11_DIR \"/usr/local/lib/python3.10/dist-packages/pybind11/share/cmake/pybind11\")\n",
        "find_package(pybind11 REQUIRED)\n",
        "\n",
        "# Agregar el modulo\n",
        "add_library(nombre MODULE nombre.cpp)\n",
        "set_target_properties(nombre PROPERTIES PREFIX \"\" SUFFIX \".so\")\n",
        "\n",
        "# Enlazar con PyBind11\n",
        "target_link_libraries(nombre PRIVATE pybind11::module)\n",
        "\"\"\"\n",
        "\n",
        "# Guardar el archivo CMakeLists.txt\n",
        "with open(\"CMakeLists.txt\", \"w\") as f:\n",
        "    f.write(cmake_code)"
      ],
      "metadata": {
        "id": "FkAdtiP5HUQy"
      },
      "execution_count": 5,
      "outputs": []
    },
    {
      "cell_type": "code",
      "source": [
        "# Crear el directorio de compilación\n",
        "!mkdir build"
      ],
      "metadata": {
        "id": "C8M0C7EiHZ5i"
      },
      "execution_count": 6,
      "outputs": []
    },
    {
      "cell_type": "code",
      "source": [
        "%cd build"
      ],
      "metadata": {
        "colab": {
          "base_uri": "https://localhost:8080/"
        },
        "id": "Na7J5vMMHYGI",
        "outputId": "5052d484-0658-45f5-c87a-d4ec4ec71580"
      },
      "execution_count": 7,
      "outputs": [
        {
          "output_type": "stream",
          "name": "stdout",
          "text": [
            "/content/build\n"
          ]
        }
      ]
    },
    {
      "cell_type": "code",
      "source": [
        "!cmake .."
      ],
      "metadata": {
        "colab": {
          "base_uri": "https://localhost:8080/"
        },
        "id": "BJSIHVOsHkG7",
        "outputId": "51143c22-208b-4698-8321-661b1bd47028"
      },
      "execution_count": 8,
      "outputs": [
        {
          "output_type": "stream",
          "name": "stdout",
          "text": [
            "-- The C compiler identification is GNU 11.4.0\n",
            "-- The CXX compiler identification is GNU 11.4.0\n",
            "-- Detecting C compiler ABI info\n",
            "-- Detecting C compiler ABI info - done\n",
            "-- Check for working C compiler: /usr/bin/cc - skipped\n",
            "-- Detecting C compile features\n",
            "-- Detecting C compile features - done\n",
            "-- Detecting CXX compiler ABI info\n",
            "-- Detecting CXX compiler ABI info - done\n",
            "-- Check for working CXX compiler: /usr/bin/c++ - skipped\n",
            "-- Detecting CXX compile features\n",
            "-- Detecting CXX compile features - done\n",
            "\u001b[33mCMake Warning (dev) at /usr/local/lib/python3.10/dist-packages/pybind11/share/cmake/pybind11/FindPythonLibsNew.cmake:101 (message):\n",
            "  Policy CMP0148 is not set: The FindPythonInterp and FindPythonLibs modules\n",
            "  are removed.  Run \"cmake --help-policy CMP0148\" for policy details.  Use\n",
            "  the cmake_policy command to set the policy and suppress this warning, or\n",
            "  preferably upgrade to using FindPython, either by calling it explicitly\n",
            "  before pybind11, or by setting PYBIND11_FINDPYTHON ON before pybind11.\n",
            "Call Stack (most recent call first):\n",
            "  /usr/local/lib/python3.10/dist-packages/pybind11/share/cmake/pybind11/pybind11Tools.cmake:50 (find_package)\n",
            "  /usr/local/lib/python3.10/dist-packages/pybind11/share/cmake/pybind11/pybind11Common.cmake:228 (include)\n",
            "  /usr/local/lib/python3.10/dist-packages/pybind11/share/cmake/pybind11/pybind11Config.cmake:250 (include)\n",
            "  CMakeLists.txt:7 (find_package)\n",
            "This warning is for project developers.  Use -Wno-dev to suppress it.\n",
            "\u001b[0m\n",
            "-- Found PythonInterp: /usr/bin/python3 (found suitable version \"3.10.12\", minimum required is \"3.7\")\n",
            "-- Found PythonLibs: /usr/lib/x86_64-linux-gnu/libpython3.10.so\n",
            "-- Performing Test HAS_FLTO\n",
            "-- Performing Test HAS_FLTO - Success\n",
            "-- Found pybind11: /usr/local/lib/python3.10/dist-packages/pybind11/include (found version \"2.13.6\")\n",
            "-- Configuring done (1.3s)\n",
            "-- Generating done (0.0s)\n",
            "-- Build files have been written to: /content/build\n"
          ]
        }
      ]
    },
    {
      "cell_type": "code",
      "source": [
        "!make"
      ],
      "metadata": {
        "colab": {
          "base_uri": "https://localhost:8080/"
        },
        "id": "M1t9iiNiHj7L",
        "outputId": "12f5be15-4e9e-496e-9f62-b912057b3367"
      },
      "execution_count": 9,
      "outputs": [
        {
          "output_type": "stream",
          "name": "stdout",
          "text": [
            "[ 50%] \u001b[32mBuilding CXX object CMakeFiles/nombre.dir/nombre.cpp.o\u001b[0m\n",
            "[100%] \u001b[32m\u001b[1mLinking CXX shared module nombre.so\u001b[0m\n",
            "[100%] Built target nombre\n"
          ]
        }
      ]
    },
    {
      "cell_type": "code",
      "source": [
        "!ls"
      ],
      "metadata": {
        "colab": {
          "base_uri": "https://localhost:8080/"
        },
        "id": "M_cdH5qQIiAI",
        "outputId": "0b74f732-9fb5-4ce5-cbe6-eb38a48eb966"
      },
      "execution_count": 10,
      "outputs": [
        {
          "output_type": "stream",
          "name": "stdout",
          "text": [
            "CMakeCache.txt\tCMakeFiles  cmake_install.cmake  Makefile  nombre.so\n"
          ]
        }
      ]
    },
    {
      "cell_type": "code",
      "source": [
        "import sys\n",
        "import os\n",
        "\n",
        "# Añadir el directorio 'build' donde está el archivo .so\n",
        "sys.path.append(os.path.abspath(\"/content/build\"))\n",
        "\n",
        "# Importar el módulo compilado\n",
        "import nombre\n",
        "\n",
        "nombre.imprimir()\n",
        "\n",
        "\n",
        "\n"
      ],
      "metadata": {
        "colab": {
          "base_uri": "https://localhost:8080/",
          "height": 36
        },
        "id": "GtdfvcCsImdY",
        "outputId": "2bc55c6d-b322-4d7b-f41e-59b94c843a99"
      },
      "execution_count": 13,
      "outputs": [
        {
          "output_type": "execute_result",
          "data": {
            "text/plain": [
              "'Hola, mi nombre es Christian'"
            ],
            "application/vnd.google.colaboratory.intrinsic+json": {
              "type": "string"
            }
          },
          "metadata": {},
          "execution_count": 13
        }
      ]
    }
  ]
}