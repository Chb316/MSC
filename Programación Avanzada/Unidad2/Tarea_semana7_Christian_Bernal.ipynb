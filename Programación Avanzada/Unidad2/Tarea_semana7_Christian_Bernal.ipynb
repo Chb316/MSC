{
  "nbformat": 4,
  "nbformat_minor": 0,
  "metadata": {
    "colab": {
      "provenance": []
    },
    "kernelspec": {
      "name": "python3",
      "display_name": "Python 3"
    },
    "language_info": {
      "name": "python"
    }
  },
  "cells": [
    {
      "cell_type": "code",
      "execution_count": 3,
      "metadata": {
        "colab": {
          "base_uri": "https://localhost:8080/"
        },
        "id": "EAK6gE0C1EiI",
        "outputId": "88576fb1-ffce-41d9-934e-07359fd41e91"
      },
      "outputs": [
        {
          "output_type": "stream",
          "name": "stdout",
          "text": [
            "Matriz:\n",
            "[[3 0 0 0 0 0 0 0]\n",
            " [4 0 0 0 0 0 0 0]\n",
            " [0 0 0 0 0 0 0 0]\n",
            " [0 0 0 0 0 0 0 0]\n",
            " [0 0 0 0 0 0 0 0]\n",
            " [0 0 0 0 0 5 0 0]\n",
            " [5 0 8 0 0 0 0 0]\n",
            " [0 0 0 0 0 0 0 0]]\n",
            "\n",
            "Valores (data): [3 4 5 5 8]\n",
            "Índices de columna (indices): [0 0 5 0 2]\n",
            "Punteros de fila (indptr): [0 1 2 2 2 2 3 5 5]\n"
          ]
        }
      ],
      "source": [
        "import numpy as np\n",
        "from scipy.sparse import csr_matrix\n",
        "\n",
        "# Valores no cero de la matriz\n",
        "data = [3, 4, 5, 5, 8]\n",
        "\n",
        "# Índices de las columnas donde están los valores no cero\n",
        "indices = [0, 0, 5, 0, 2]\n",
        "\n",
        "# Punteros de las filas (indica el comienzo de cada fila en 'data')\n",
        "indptr = [0, 1, 2, 2, 2, 2, 3, 5, 5]\n",
        "\n",
        "# Crear la matriz en formato CSR\n",
        "A_csr = csr_matrix((data, indices, indptr), shape=(8, 8))\n",
        "\n",
        "# Imprimir la matriz completa\n",
        "print(\"Matriz:\")\n",
        "print(A_csr.toarray())\n",
        "\n",
        "# Mostrar los componentes del formato CSR\n",
        "print(\"\\nValores (data):\", A_csr.data)\n",
        "print(\"Índices de columna (indices):\", A_csr.indices)\n",
        "print(\"Punteros de fila (indptr):\", A_csr.indptr)\n",
        "\n"
      ]
    }
  ]
}