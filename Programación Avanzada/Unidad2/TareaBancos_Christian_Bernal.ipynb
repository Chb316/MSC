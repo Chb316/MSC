{
  "nbformat": 4,
  "nbformat_minor": 0,
  "metadata": {
    "colab": {
      "provenance": []
    },
    "kernelspec": {
      "name": "python3",
      "display_name": "Python 3"
    },
    "language_info": {
      "name": "python"
    }
  },
  "cells": [
    {
      "cell_type": "markdown",
      "source": [
        "#Ejercicio de Pandas:\n",
        "\n",
        "Usa los dos archivos csv de la carpeta para completar las tareas que aparecen en negrita a continuación, responder sólo en la línea que aparece.\n",
        "\n",
        "**Usar una celda de código**\n",
        "\n",
        "Importar pandas and leer el archivo banklist.csv en una estructura de dataframe llamada bancos."
      ],
      "metadata": {
        "id": "d6uOsXo7Z-uV"
      }
    },
    {
      "cell_type": "code",
      "source": [
        "from google.colab import drive\n",
        "drive.mount('/content/drive')"
      ],
      "metadata": {
        "colab": {
          "base_uri": "https://localhost:8080/"
        },
        "id": "y-0A8rlDsr5o",
        "outputId": "d36e75be-30af-405a-a422-c57190456665"
      },
      "execution_count": 7,
      "outputs": [
        {
          "output_type": "stream",
          "name": "stdout",
          "text": [
            "Drive already mounted at /content/drive; to attempt to forcibly remount, call drive.mount(\"/content/drive\", force_remount=True).\n"
          ]
        }
      ]
    },
    {
      "cell_type": "code",
      "source": [
        "import os\n",
        "\n",
        "os.chdir('/content/drive/MyDrive/Tarea 2 Unidad 2 ')"
      ],
      "metadata": {
        "id": "Qu0ILeiaa1Vx"
      },
      "execution_count": 8,
      "outputs": []
    },
    {
      "cell_type": "code",
      "source": [
        "import pandas as pd\n",
        "\n",
        "bancos = pd.read_csv('banklist.csv')\n"
      ],
      "metadata": {
        "id": "7VXbTwEdsyml"
      },
      "execution_count": 14,
      "outputs": []
    },
    {
      "cell_type": "markdown",
      "source": [
        "**Muestre las 10 primeras filas del dataframe**"
      ],
      "metadata": {
        "id": "-RUijg8Yap-7"
      }
    },
    {
      "cell_type": "code",
      "source": [
        "bancos.head(10)"
      ],
      "metadata": {
        "colab": {
          "base_uri": "https://localhost:8080/",
          "height": 606
        },
        "id": "l1lx6Q6msqMk",
        "outputId": "ff3ec71b-e2f7-4e6c-ece8-77395b9af9d4"
      },
      "execution_count": 15,
      "outputs": [
        {
          "output_type": "execute_result",
          "data": {
            "text/plain": [
              "                                           Bank Name                City  ST  \\\n",
              "0                                Fayette County Bank          Saint Elmo  IL   \n",
              "1  Guaranty Bank, (d/b/a BestBank in Georgia & Mi...           Milwaukee  WI   \n",
              "2                                     First NBC Bank         New Orleans  LA   \n",
              "3                                      Proficio Bank  Cottonwood Heights  UT   \n",
              "4                      Seaway Bank and Trust Company             Chicago  IL   \n",
              "5                             Harvest Community Bank          Pennsville  NJ   \n",
              "6                                        Allied Bank            Mulberry  AR   \n",
              "7                       The Woodbury Banking Company            Woodbury  GA   \n",
              "8                             First CornerStone Bank     King of Prussia  PA   \n",
              "9                                 Trust Company Bank             Memphis  TN   \n",
              "\n",
              "    CERT                Acquiring Institution Closing Date Updated Date  \n",
              "0   1802            United Fidelity Bank, fsb    26-May-17     1-Jun-17  \n",
              "1  30003  First-Citizens Bank & Trust Company     5-May-17     1-Jun-17  \n",
              "2  58302                         Whitney Bank    28-Apr-17    23-May-17  \n",
              "3  35495                    Cache Valley Bank     3-Mar-17    18-May-17  \n",
              "4  19328                  State Bank of Texas    27-Jan-17    18-May-17  \n",
              "5  34951  First-Citizens Bank & Trust Company    13-Jan-17    18-May-17  \n",
              "6     91                         Today's Bank    23-Sep-16    17-Nov-16  \n",
              "7  11297                          United Bank    19-Aug-16     1-Jun-17  \n",
              "8  35312  First-Citizens Bank & Trust Company     6-May-16     6-Sep-16  \n",
              "9   9956           The Bank of Fayette County    29-Apr-16     6-Sep-16  "
            ],
            "text/html": [
              "\n",
              "  <div id=\"df-10b5fe34-d7c2-4eea-873c-f9b78810ba35\" class=\"colab-df-container\">\n",
              "    <div>\n",
              "<style scoped>\n",
              "    .dataframe tbody tr th:only-of-type {\n",
              "        vertical-align: middle;\n",
              "    }\n",
              "\n",
              "    .dataframe tbody tr th {\n",
              "        vertical-align: top;\n",
              "    }\n",
              "\n",
              "    .dataframe thead th {\n",
              "        text-align: right;\n",
              "    }\n",
              "</style>\n",
              "<table border=\"1\" class=\"dataframe\">\n",
              "  <thead>\n",
              "    <tr style=\"text-align: right;\">\n",
              "      <th></th>\n",
              "      <th>Bank Name</th>\n",
              "      <th>City</th>\n",
              "      <th>ST</th>\n",
              "      <th>CERT</th>\n",
              "      <th>Acquiring Institution</th>\n",
              "      <th>Closing Date</th>\n",
              "      <th>Updated Date</th>\n",
              "    </tr>\n",
              "  </thead>\n",
              "  <tbody>\n",
              "    <tr>\n",
              "      <th>0</th>\n",
              "      <td>Fayette County Bank</td>\n",
              "      <td>Saint Elmo</td>\n",
              "      <td>IL</td>\n",
              "      <td>1802</td>\n",
              "      <td>United Fidelity Bank, fsb</td>\n",
              "      <td>26-May-17</td>\n",
              "      <td>1-Jun-17</td>\n",
              "    </tr>\n",
              "    <tr>\n",
              "      <th>1</th>\n",
              "      <td>Guaranty Bank, (d/b/a BestBank in Georgia &amp; Mi...</td>\n",
              "      <td>Milwaukee</td>\n",
              "      <td>WI</td>\n",
              "      <td>30003</td>\n",
              "      <td>First-Citizens Bank &amp; Trust Company</td>\n",
              "      <td>5-May-17</td>\n",
              "      <td>1-Jun-17</td>\n",
              "    </tr>\n",
              "    <tr>\n",
              "      <th>2</th>\n",
              "      <td>First NBC Bank</td>\n",
              "      <td>New Orleans</td>\n",
              "      <td>LA</td>\n",
              "      <td>58302</td>\n",
              "      <td>Whitney Bank</td>\n",
              "      <td>28-Apr-17</td>\n",
              "      <td>23-May-17</td>\n",
              "    </tr>\n",
              "    <tr>\n",
              "      <th>3</th>\n",
              "      <td>Proficio Bank</td>\n",
              "      <td>Cottonwood Heights</td>\n",
              "      <td>UT</td>\n",
              "      <td>35495</td>\n",
              "      <td>Cache Valley Bank</td>\n",
              "      <td>3-Mar-17</td>\n",
              "      <td>18-May-17</td>\n",
              "    </tr>\n",
              "    <tr>\n",
              "      <th>4</th>\n",
              "      <td>Seaway Bank and Trust Company</td>\n",
              "      <td>Chicago</td>\n",
              "      <td>IL</td>\n",
              "      <td>19328</td>\n",
              "      <td>State Bank of Texas</td>\n",
              "      <td>27-Jan-17</td>\n",
              "      <td>18-May-17</td>\n",
              "    </tr>\n",
              "    <tr>\n",
              "      <th>5</th>\n",
              "      <td>Harvest Community Bank</td>\n",
              "      <td>Pennsville</td>\n",
              "      <td>NJ</td>\n",
              "      <td>34951</td>\n",
              "      <td>First-Citizens Bank &amp; Trust Company</td>\n",
              "      <td>13-Jan-17</td>\n",
              "      <td>18-May-17</td>\n",
              "    </tr>\n",
              "    <tr>\n",
              "      <th>6</th>\n",
              "      <td>Allied Bank</td>\n",
              "      <td>Mulberry</td>\n",
              "      <td>AR</td>\n",
              "      <td>91</td>\n",
              "      <td>Today's Bank</td>\n",
              "      <td>23-Sep-16</td>\n",
              "      <td>17-Nov-16</td>\n",
              "    </tr>\n",
              "    <tr>\n",
              "      <th>7</th>\n",
              "      <td>The Woodbury Banking Company</td>\n",
              "      <td>Woodbury</td>\n",
              "      <td>GA</td>\n",
              "      <td>11297</td>\n",
              "      <td>United Bank</td>\n",
              "      <td>19-Aug-16</td>\n",
              "      <td>1-Jun-17</td>\n",
              "    </tr>\n",
              "    <tr>\n",
              "      <th>8</th>\n",
              "      <td>First CornerStone Bank</td>\n",
              "      <td>King of Prussia</td>\n",
              "      <td>PA</td>\n",
              "      <td>35312</td>\n",
              "      <td>First-Citizens Bank &amp; Trust Company</td>\n",
              "      <td>6-May-16</td>\n",
              "      <td>6-Sep-16</td>\n",
              "    </tr>\n",
              "    <tr>\n",
              "      <th>9</th>\n",
              "      <td>Trust Company Bank</td>\n",
              "      <td>Memphis</td>\n",
              "      <td>TN</td>\n",
              "      <td>9956</td>\n",
              "      <td>The Bank of Fayette County</td>\n",
              "      <td>29-Apr-16</td>\n",
              "      <td>6-Sep-16</td>\n",
              "    </tr>\n",
              "  </tbody>\n",
              "</table>\n",
              "</div>\n",
              "    <div class=\"colab-df-buttons\">\n",
              "\n",
              "  <div class=\"colab-df-container\">\n",
              "    <button class=\"colab-df-convert\" onclick=\"convertToInteractive('df-10b5fe34-d7c2-4eea-873c-f9b78810ba35')\"\n",
              "            title=\"Convert this dataframe to an interactive table.\"\n",
              "            style=\"display:none;\">\n",
              "\n",
              "  <svg xmlns=\"http://www.w3.org/2000/svg\" height=\"24px\" viewBox=\"0 -960 960 960\">\n",
              "    <path d=\"M120-120v-720h720v720H120Zm60-500h600v-160H180v160Zm220 220h160v-160H400v160Zm0 220h160v-160H400v160ZM180-400h160v-160H180v160Zm440 0h160v-160H620v160ZM180-180h160v-160H180v160Zm440 0h160v-160H620v160Z\"/>\n",
              "  </svg>\n",
              "    </button>\n",
              "\n",
              "  <style>\n",
              "    .colab-df-container {\n",
              "      display:flex;\n",
              "      gap: 12px;\n",
              "    }\n",
              "\n",
              "    .colab-df-convert {\n",
              "      background-color: #E8F0FE;\n",
              "      border: none;\n",
              "      border-radius: 50%;\n",
              "      cursor: pointer;\n",
              "      display: none;\n",
              "      fill: #1967D2;\n",
              "      height: 32px;\n",
              "      padding: 0 0 0 0;\n",
              "      width: 32px;\n",
              "    }\n",
              "\n",
              "    .colab-df-convert:hover {\n",
              "      background-color: #E2EBFA;\n",
              "      box-shadow: 0px 1px 2px rgba(60, 64, 67, 0.3), 0px 1px 3px 1px rgba(60, 64, 67, 0.15);\n",
              "      fill: #174EA6;\n",
              "    }\n",
              "\n",
              "    .colab-df-buttons div {\n",
              "      margin-bottom: 4px;\n",
              "    }\n",
              "\n",
              "    [theme=dark] .colab-df-convert {\n",
              "      background-color: #3B4455;\n",
              "      fill: #D2E3FC;\n",
              "    }\n",
              "\n",
              "    [theme=dark] .colab-df-convert:hover {\n",
              "      background-color: #434B5C;\n",
              "      box-shadow: 0px 1px 3px 1px rgba(0, 0, 0, 0.15);\n",
              "      filter: drop-shadow(0px 1px 2px rgba(0, 0, 0, 0.3));\n",
              "      fill: #FFFFFF;\n",
              "    }\n",
              "  </style>\n",
              "\n",
              "    <script>\n",
              "      const buttonEl =\n",
              "        document.querySelector('#df-10b5fe34-d7c2-4eea-873c-f9b78810ba35 button.colab-df-convert');\n",
              "      buttonEl.style.display =\n",
              "        google.colab.kernel.accessAllowed ? 'block' : 'none';\n",
              "\n",
              "      async function convertToInteractive(key) {\n",
              "        const element = document.querySelector('#df-10b5fe34-d7c2-4eea-873c-f9b78810ba35');\n",
              "        const dataTable =\n",
              "          await google.colab.kernel.invokeFunction('convertToInteractive',\n",
              "                                                    [key], {});\n",
              "        if (!dataTable) return;\n",
              "\n",
              "        const docLinkHtml = 'Like what you see? Visit the ' +\n",
              "          '<a target=\"_blank\" href=https://colab.research.google.com/notebooks/data_table.ipynb>data table notebook</a>'\n",
              "          + ' to learn more about interactive tables.';\n",
              "        element.innerHTML = '';\n",
              "        dataTable['output_type'] = 'display_data';\n",
              "        await google.colab.output.renderOutput(dataTable, element);\n",
              "        const docLink = document.createElement('div');\n",
              "        docLink.innerHTML = docLinkHtml;\n",
              "        element.appendChild(docLink);\n",
              "      }\n",
              "    </script>\n",
              "  </div>\n",
              "\n",
              "\n",
              "<div id=\"df-5015aae4-d958-4961-afb2-f176626bd0c7\">\n",
              "  <button class=\"colab-df-quickchart\" onclick=\"quickchart('df-5015aae4-d958-4961-afb2-f176626bd0c7')\"\n",
              "            title=\"Suggest charts\"\n",
              "            style=\"display:none;\">\n",
              "\n",
              "<svg xmlns=\"http://www.w3.org/2000/svg\" height=\"24px\"viewBox=\"0 0 24 24\"\n",
              "     width=\"24px\">\n",
              "    <g>\n",
              "        <path d=\"M19 3H5c-1.1 0-2 .9-2 2v14c0 1.1.9 2 2 2h14c1.1 0 2-.9 2-2V5c0-1.1-.9-2-2-2zM9 17H7v-7h2v7zm4 0h-2V7h2v10zm4 0h-2v-4h2v4z\"/>\n",
              "    </g>\n",
              "</svg>\n",
              "  </button>\n",
              "\n",
              "<style>\n",
              "  .colab-df-quickchart {\n",
              "      --bg-color: #E8F0FE;\n",
              "      --fill-color: #1967D2;\n",
              "      --hover-bg-color: #E2EBFA;\n",
              "      --hover-fill-color: #174EA6;\n",
              "      --disabled-fill-color: #AAA;\n",
              "      --disabled-bg-color: #DDD;\n",
              "  }\n",
              "\n",
              "  [theme=dark] .colab-df-quickchart {\n",
              "      --bg-color: #3B4455;\n",
              "      --fill-color: #D2E3FC;\n",
              "      --hover-bg-color: #434B5C;\n",
              "      --hover-fill-color: #FFFFFF;\n",
              "      --disabled-bg-color: #3B4455;\n",
              "      --disabled-fill-color: #666;\n",
              "  }\n",
              "\n",
              "  .colab-df-quickchart {\n",
              "    background-color: var(--bg-color);\n",
              "    border: none;\n",
              "    border-radius: 50%;\n",
              "    cursor: pointer;\n",
              "    display: none;\n",
              "    fill: var(--fill-color);\n",
              "    height: 32px;\n",
              "    padding: 0;\n",
              "    width: 32px;\n",
              "  }\n",
              "\n",
              "  .colab-df-quickchart:hover {\n",
              "    background-color: var(--hover-bg-color);\n",
              "    box-shadow: 0 1px 2px rgba(60, 64, 67, 0.3), 0 1px 3px 1px rgba(60, 64, 67, 0.15);\n",
              "    fill: var(--button-hover-fill-color);\n",
              "  }\n",
              "\n",
              "  .colab-df-quickchart-complete:disabled,\n",
              "  .colab-df-quickchart-complete:disabled:hover {\n",
              "    background-color: var(--disabled-bg-color);\n",
              "    fill: var(--disabled-fill-color);\n",
              "    box-shadow: none;\n",
              "  }\n",
              "\n",
              "  .colab-df-spinner {\n",
              "    border: 2px solid var(--fill-color);\n",
              "    border-color: transparent;\n",
              "    border-bottom-color: var(--fill-color);\n",
              "    animation:\n",
              "      spin 1s steps(1) infinite;\n",
              "  }\n",
              "\n",
              "  @keyframes spin {\n",
              "    0% {\n",
              "      border-color: transparent;\n",
              "      border-bottom-color: var(--fill-color);\n",
              "      border-left-color: var(--fill-color);\n",
              "    }\n",
              "    20% {\n",
              "      border-color: transparent;\n",
              "      border-left-color: var(--fill-color);\n",
              "      border-top-color: var(--fill-color);\n",
              "    }\n",
              "    30% {\n",
              "      border-color: transparent;\n",
              "      border-left-color: var(--fill-color);\n",
              "      border-top-color: var(--fill-color);\n",
              "      border-right-color: var(--fill-color);\n",
              "    }\n",
              "    40% {\n",
              "      border-color: transparent;\n",
              "      border-right-color: var(--fill-color);\n",
              "      border-top-color: var(--fill-color);\n",
              "    }\n",
              "    60% {\n",
              "      border-color: transparent;\n",
              "      border-right-color: var(--fill-color);\n",
              "    }\n",
              "    80% {\n",
              "      border-color: transparent;\n",
              "      border-right-color: var(--fill-color);\n",
              "      border-bottom-color: var(--fill-color);\n",
              "    }\n",
              "    90% {\n",
              "      border-color: transparent;\n",
              "      border-bottom-color: var(--fill-color);\n",
              "    }\n",
              "  }\n",
              "</style>\n",
              "\n",
              "  <script>\n",
              "    async function quickchart(key) {\n",
              "      const quickchartButtonEl =\n",
              "        document.querySelector('#' + key + ' button');\n",
              "      quickchartButtonEl.disabled = true;  // To prevent multiple clicks.\n",
              "      quickchartButtonEl.classList.add('colab-df-spinner');\n",
              "      try {\n",
              "        const charts = await google.colab.kernel.invokeFunction(\n",
              "            'suggestCharts', [key], {});\n",
              "      } catch (error) {\n",
              "        console.error('Error during call to suggestCharts:', error);\n",
              "      }\n",
              "      quickchartButtonEl.classList.remove('colab-df-spinner');\n",
              "      quickchartButtonEl.classList.add('colab-df-quickchart-complete');\n",
              "    }\n",
              "    (() => {\n",
              "      let quickchartButtonEl =\n",
              "        document.querySelector('#df-5015aae4-d958-4961-afb2-f176626bd0c7 button');\n",
              "      quickchartButtonEl.style.display =\n",
              "        google.colab.kernel.accessAllowed ? 'block' : 'none';\n",
              "    })();\n",
              "  </script>\n",
              "</div>\n",
              "\n",
              "    </div>\n",
              "  </div>\n"
            ],
            "application/vnd.google.colaboratory.intrinsic+json": {
              "type": "dataframe",
              "variable_name": "bancos",
              "summary": "{\n  \"name\": \"bancos\",\n  \"rows\": 551,\n  \"fields\": [\n    {\n      \"column\": \"Bank Name\",\n      \"properties\": {\n        \"dtype\": \"string\",\n        \"num_unique_values\": 535,\n        \"samples\": [\n          \"All American Bank\",\n          \"CreekSide Bank\",\n          \"Mountain Heritage Bank\"\n        ],\n        \"semantic_type\": \"\",\n        \"description\": \"\"\n      }\n    },\n    {\n      \"column\": \"City\",\n      \"properties\": {\n        \"dtype\": \"string\",\n        \"num_unique_values\": 424,\n        \"samples\": [\n          \"Cocoa Beach\",\n          \"Germantown\",\n          \"McDonough\"\n        ],\n        \"semantic_type\": \"\",\n        \"description\": \"\"\n      }\n    },\n    {\n      \"column\": \"ST\",\n      \"properties\": {\n        \"dtype\": \"category\",\n        \"num_unique_values\": 44,\n        \"samples\": [\n          \"NY\",\n          \"NV\",\n          \"NC\"\n        ],\n        \"semantic_type\": \"\",\n        \"description\": \"\"\n      }\n    },\n    {\n      \"column\": \"CERT\",\n      \"properties\": {\n        \"dtype\": \"number\",\n        \"std\": 16449,\n        \"min\": 91,\n        \"max\": 58701,\n        \"num_unique_values\": 551,\n        \"samples\": [\n          32646,\n          1690,\n          4744\n        ],\n        \"semantic_type\": \"\",\n        \"description\": \"\"\n      }\n    },\n    {\n      \"column\": \"Acquiring Institution\",\n      \"properties\": {\n        \"dtype\": \"string\",\n        \"num_unique_values\": 286,\n        \"samples\": [\n          \"Fidelity Bank\",\n          \"The Citizens Banking Company\",\n          \"Grandpoint Bank\"\n        ],\n        \"semantic_type\": \"\",\n        \"description\": \"\"\n      }\n    },\n    {\n      \"column\": \"Closing Date\",\n      \"properties\": {\n        \"dtype\": \"object\",\n        \"num_unique_values\": 247,\n        \"samples\": [\n          \"17-Jan-14\",\n          \"23-Sep-16\",\n          \"10-Jul-09\"\n        ],\n        \"semantic_type\": \"\",\n        \"description\": \"\"\n      }\n    },\n    {\n      \"column\": \"Updated Date\",\n      \"properties\": {\n        \"dtype\": \"object\",\n        \"num_unique_values\": 123,\n        \"samples\": [\n          \"25-Mar-16\",\n          \"22-Oct-13\",\n          \"17-Dec-12\"\n        ],\n        \"semantic_type\": \"\",\n        \"description\": \"\"\n      }\n    }\n  ]\n}"
            }
          },
          "metadata": {},
          "execution_count": 15
        }
      ]
    },
    {
      "cell_type": "markdown",
      "source": [
        "**Imprima el nombre de las columnas**"
      ],
      "metadata": {
        "id": "kTwESplsbT4d"
      }
    },
    {
      "cell_type": "code",
      "source": [
        "# Imprimir los nombres de las columnas\n",
        "print(bancos.columns)\n"
      ],
      "metadata": {
        "colab": {
          "base_uri": "https://localhost:8080/"
        },
        "id": "sNOeI76ysp2X",
        "outputId": "93e85301-c4b7-48c7-c9e5-2fe85ab70d33"
      },
      "execution_count": 24,
      "outputs": [
        {
          "output_type": "stream",
          "name": "stdout",
          "text": [
            "Index(['Bank Name', 'City', 'ST', 'CERT', 'Acquiring Institution',\n",
            "       'Closing Date', 'Updated Date'],\n",
            "      dtype='object')\n"
          ]
        }
      ]
    },
    {
      "cell_type": "markdown",
      "source": [
        "**Obtener una lista o matriz de todos los estados en el conjunto de datos, sin repetición, ordenados de la A a la Z**"
      ],
      "metadata": {
        "id": "yl03Uz9CbXRU"
      }
    },
    {
      "cell_type": "code",
      "source": [
        "# Obtener una lista de todos los estados sin repetición y ordenada alfabéticamente\n",
        "estados_unicos = sorted(bancos['ST'].unique())\n",
        "\n",
        "# Imprimir la lista de estados\n",
        "print(estados_unicos)\n"
      ],
      "metadata": {
        "id": "Jg7SyLesbnVV",
        "colab": {
          "base_uri": "https://localhost:8080/"
        },
        "outputId": "81e762b7-736a-4c20-dd32-2e835fbea5bd"
      },
      "execution_count": 25,
      "outputs": [
        {
          "output_type": "stream",
          "name": "stdout",
          "text": [
            "['AL', 'AR', 'AZ', 'CA', 'CO', 'CT', 'FL', 'GA', 'HI', 'IA', 'ID', 'IL', 'IN', 'KS', 'KY', 'LA', 'MA', 'MD', 'MI', 'MN', 'MO', 'MS', 'NC', 'NE', 'NH', 'NJ', 'NM', 'NV', 'NY', 'OH', 'OK', 'OR', 'PA', 'PR', 'SC', 'SD', 'TN', 'TX', 'UT', 'VA', 'WA', 'WI', 'WV', 'WY']\n"
          ]
        }
      ]
    },
    {
      "cell_type": "markdown",
      "source": [
        "**¿Cuáles son los 5 estados con más bancos fallidos?**"
      ],
      "metadata": {
        "id": "WcVTT2Pcbw-N"
      }
    },
    {
      "cell_type": "code",
      "source": [
        "# Contar el número de bancos fallidos por estado y los 5 principales\n",
        "estados_con_mas_bancos_fallidos = bancos['ST'].value_counts().head(5)\n",
        "\n",
        "# Imprimir los 5 estados con más bancos fallidos\n",
        "print(estados_con_mas_bancos_fallidos)\n"
      ],
      "metadata": {
        "colab": {
          "base_uri": "https://localhost:8080/"
        },
        "id": "2h64a_2b0aNz",
        "outputId": "b760dccb-b0f6-4e23-bc11-ce7e99692721"
      },
      "execution_count": 26,
      "outputs": [
        {
          "output_type": "stream",
          "name": "stdout",
          "text": [
            "ST\n",
            "GA    93\n",
            "FL    75\n",
            "IL    67\n",
            "CA    41\n",
            "MN    23\n",
            "Name: count, dtype: int64\n"
          ]
        }
      ]
    },
    {
      "cell_type": "markdown",
      "source": [
        "**¿Cuáles son las 5 principales instituciones adquirentes?**"
      ],
      "metadata": {
        "id": "4Idrpp5kcAjY"
      }
    },
    {
      "cell_type": "code",
      "source": [
        "# Obtener las 5 principales instituciones adquirentes\n",
        "top_instituciones_adquirentes = bancos['Acquiring Institution'].value_counts().head(5)\n",
        "print(top_instituciones_adquirentes)\n"
      ],
      "metadata": {
        "id": "2CzLdE9rcwVa",
        "colab": {
          "base_uri": "https://localhost:8080/"
        },
        "outputId": "242bc17d-b54c-41b0-c8aa-c2171b1dec0d"
      },
      "execution_count": 18,
      "outputs": [
        {
          "output_type": "stream",
          "name": "stdout",
          "text": [
            "Acquiring Institution\n",
            "No Acquirer                            31\n",
            "State Bank and Trust Company           12\n",
            "First-Citizens Bank & Trust Company    11\n",
            "Ameris Bank                            10\n",
            "U.S. Bank N.A.                          9\n",
            "Name: count, dtype: int64\n"
          ]
        }
      ]
    },
    {
      "cell_type": "markdown",
      "source": [
        "**¿Cuántos bancos ha adquirido el State Bank of Texas? ¿Cuántos de ellos estaban realmente en Texas?**"
      ],
      "metadata": {
        "id": "01iyxOPmcw_x"
      }
    },
    {
      "cell_type": "code",
      "source": [
        "# Filtrar por los bancos adquiridos por \"State Bank of Texas\"\n",
        "bancos_state_bank_texas = bancos[bancos['Acquiring Institution'] == 'State Bank of Texas']\n",
        "\n",
        "# Contar cuántos bancos ha adquirido el \"State Bank of Texas\"\n",
        "total_adquiridos = bancos_state_bank_texas.shape[0]\n",
        "\n",
        "# Contar cuántos de esos bancos estaban en Texas\n",
        "bancos_en_texas = bancos_state_bank_texas[bancos_state_bank_texas['ST'] == 'TX'].shape[0]\n",
        "\n",
        "print(f\"Total de bancos adquiridos por 'State Bank of Texas': {total_adquiridos}\")\n",
        "print(f\"De esos, bancos ubicados en Texas: {bancos_en_texas}\")\n"
      ],
      "metadata": {
        "id": "XU7xRbpmc0px",
        "colab": {
          "base_uri": "https://localhost:8080/"
        },
        "outputId": "2db9c236-faf2-4c2f-af91-19b635a416a9"
      },
      "execution_count": 17,
      "outputs": [
        {
          "output_type": "stream",
          "name": "stdout",
          "text": [
            "Total de bancos adquiridos por 'State Bank of Texas': 3\n",
            "De esos, bancos ubicados en Texas: 1\n"
          ]
        }
      ]
    },
    {
      "cell_type": "markdown",
      "source": [
        "**¿Cuál es la ciudad más común en California donde un banco quiebra?**"
      ],
      "metadata": {
        "id": "CvRLH07xc1ia"
      }
    },
    {
      "cell_type": "code",
      "source": [
        "# Filtrar los bancos en California\n",
        "bancos_california = bancos[bancos['ST'] == 'CA']\n",
        "\n",
        "# Obtener la ciudad más común\n",
        "ciudad_mas_comun = bancos_california['City'].value_counts().idxmax()\n",
        "\n",
        "print(f\"La ciudad más común en California donde quiebra un banco es: {ciudad_mas_comun}\")\n"
      ],
      "metadata": {
        "id": "Db5DbIEodP4k",
        "colab": {
          "base_uri": "https://localhost:8080/"
        },
        "outputId": "c988ab2b-7363-4994-a442-1d400bab647b"
      },
      "execution_count": 19,
      "outputs": [
        {
          "output_type": "stream",
          "name": "stdout",
          "text": [
            "La ciudad más común en California donde quiebra un banco es: Los Angeles\n"
          ]
        }
      ]
    },
    {
      "cell_type": "markdown",
      "source": [
        "**¿Cuántos nombres de bancos comienzan con la letra 's'?**"
      ],
      "metadata": {
        "id": "fkPaa2e9dSpZ"
      }
    },
    {
      "cell_type": "code",
      "source": [
        "# Contar cuántos nombres de bancos comienzan con la letra 'S'\n",
        "bancos_con_s = bancos[bancos['Bank Name'].str.startswith('S')].shape[0]\n",
        "print(f\"Cantidad de bancos que comienzan con 'S': {bancos_con_s}\")\n"
      ],
      "metadata": {
        "id": "c2wHcNqxdcSW",
        "colab": {
          "base_uri": "https://localhost:8080/"
        },
        "outputId": "50347dc4-c60e-48df-a1eb-20eae6c40c45"
      },
      "execution_count": 20,
      "outputs": [
        {
          "output_type": "stream",
          "name": "stdout",
          "text": [
            "Cantidad de bancos que comienzan con 'S': 53\n"
          ]
        }
      ]
    },
    {
      "cell_type": "markdown",
      "source": [
        "**¿Cuántos bancos consisten en dos palabras? Ej. \"First Bank\" , \"Bank Georgia\"**"
      ],
      "metadata": {
        "id": "HJ21qfU2dc4l"
      }
    },
    {
      "cell_type": "code",
      "source": [
        "# Contar cuántos bancos consisten en dos palabras\n",
        "bancos_dos_palabras = bancos[bancos['Bank Name'].str.split().apply(len) == 2].shape[0]\n",
        "print(f\"Bancos que consisten en dos palabras: {bancos_dos_palabras}\")\n"
      ],
      "metadata": {
        "id": "Ym98Ugogdq5J",
        "colab": {
          "base_uri": "https://localhost:8080/"
        },
        "outputId": "ed2d6a3b-1f43-497a-c4d3-4ed6ab038ef4"
      },
      "execution_count": 21,
      "outputs": [
        {
          "output_type": "stream",
          "name": "stdout",
          "text": [
            "Bancos que consisten en dos palabras: 114\n"
          ]
        }
      ]
    },
    {
      "cell_type": "markdown",
      "source": [
        "**¿Cuántos bancos quebrados no tienen la palabra \"Banco\" en su nombre?**"
      ],
      "metadata": {
        "id": "_F_OnNUFeEK9"
      }
    },
    {
      "cell_type": "code",
      "source": [
        "# Contar cuántos bancos no tienen la palabra \"Bank\" en su nombre\n",
        "bancos_sin_banco = bancos[~bancos['Bank Name'].str.contains('Bank', case=False)].shape[0]\n",
        "print(f\"Bancos quebrados que no tienen la palabra 'Bank' en su nombre: {bancos_sin_banco}\")\n"
      ],
      "metadata": {
        "id": "Oc-w9zSYd4Dx",
        "colab": {
          "base_uri": "https://localhost:8080/"
        },
        "outputId": "51e38400-e84f-456d-a555-d209bd6cbb75"
      },
      "execution_count": 22,
      "outputs": [
        {
          "output_type": "stream",
          "name": "stdout",
          "text": [
            "Bancos quebrados que no tienen la palabra 'Bank' en su nombre: 10\n"
          ]
        }
      ]
    },
    {
      "cell_type": "markdown",
      "source": [
        "**¿Cuántos bancos cerraron en el año 2008?**"
      ],
      "metadata": {
        "id": "Wj7BtvY3ducV"
      }
    },
    {
      "cell_type": "code",
      "source": [
        "# Filtrar los bancos que cerraron en el año 2008\n",
        "bancos_2008 = bancos[bancos['Closing Date'].str.contains('2008')].shape[0]\n",
        "print(f\"Bancos que cerraron en 2008: {bancos_2008}\")\n"
      ],
      "metadata": {
        "colab": {
          "base_uri": "https://localhost:8080/"
        },
        "id": "zBIuTE7J04Nm",
        "outputId": "453ce2d1-8bb6-432e-db47-d22d5dacce98"
      },
      "execution_count": 23,
      "outputs": [
        {
          "output_type": "stream",
          "name": "stdout",
          "text": [
            "Bancos que cerraron en 2008: 0\n"
          ]
        }
      ]
    }
  ]
}