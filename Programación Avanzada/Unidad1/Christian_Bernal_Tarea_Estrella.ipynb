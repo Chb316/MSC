{
  "nbformat": 4,
  "nbformat_minor": 0,
  "metadata": {
    "colab": {
      "provenance": []
    },
    "kernelspec": {
      "name": "python3",
      "display_name": "Python 3"
    },
    "language_info": {
      "name": "python"
    }
  },
  "cells": [
    {
      "cell_type": "code",
      "execution_count": 1,
      "metadata": {
        "id": "rZ267WvS_xrN"
      },
      "outputs": [],
      "source": [
        "import math\n",
        "\n",
        "class Punto2D:\n",
        "    def __init__(self, x=0.0, y=0.0):\n",
        "        self.x = x\n",
        "        self.y = y\n",
        "\n",
        "    def __str__(self):\n",
        "        return f'({self.x}, {self.y})'\n",
        "\n",
        "    def distancia(self, otro_punto):\n",
        "        \"\"\"Calcula la distancia euclidiana entre dos puntos.\"\"\"\n",
        "        return math.sqrt((self.x - otro_punto.x) ** 2 + (self.y - otro_punto.y) ** 2)\n"
      ]
    },
    {
      "cell_type": "code",
      "source": [
        "# Ejemplo\n",
        "# Crear dos puntos\n",
        "p1 = Punto2D(1, 2)\n",
        "p2 = Punto2D(4, 6)\n",
        "\n",
        "print(p1)\n",
        "print(p2)\n",
        "\n",
        "# Calcular la distancia entre ellos\n",
        "dist = p1.distancia(p2)\n",
        "print(dist)"
      ],
      "metadata": {
        "id": "kGYMD7exNwPk"
      },
      "execution_count": null,
      "outputs": []
    },
    {
      "cell_type": "code",
      "source": [
        "from Christian_Bernal_Tarea_modulo import plot_geometry\n",
        "\n",
        "# Crear los puntos de la estrella\n",
        "A = Punto2D(0, 3)\n",
        "B = Punto2D(2, -2)\n",
        "C = Punto2D(-3, 1)\n",
        "D = Punto2D(3, 1)\n",
        "E = Punto2D(-2, -2)\n",
        "\n",
        "# Dibujar la estrella\n",
        "plot_geometry(A, B, C, D, E)"
      ],
      "metadata": {
        "id": "k21t_BRPAxvb"
      },
      "execution_count": null,
      "outputs": []
    }
  ]
}